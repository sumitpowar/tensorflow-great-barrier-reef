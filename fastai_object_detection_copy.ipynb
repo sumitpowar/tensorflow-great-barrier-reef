{
 "cells": [
  {
   "cell_type": "code",
   "execution_count": 3,
   "metadata": {},
   "outputs": [],
   "source": [
    "import numpy as np\n",
    "import json\n",
    "import pandas as pd\n",
    "import wandb\n",
    "import os\n",
    "import warnings\n",
    "warnings.filterwarnings(\"ignore\")\n",
    "from tqdm import tqdm\n",
    "import cv2\n",
    "import seaborn as sns\n",
    "import matplotlib as mpl\n",
    "import matplotlib.patches as patches\n",
    "import matplotlib.pyplot as plt\n",
    "from IPython.display import display_html\n",
    "from ast import literal_eval"
   ]
  },
  {
   "cell_type": "code",
   "execution_count": 4,
   "metadata": {},
   "outputs": [],
   "source": [
    "PATH = 'D:/Sumit/Python/Kaggle/tensorflow-great-barrier-reef/greatbarrierreef/train.csv'"
   ]
  },
  {
   "cell_type": "code",
   "execution_count": 5,
   "metadata": {},
   "outputs": [],
   "source": [
    "data = pd.read_csv(PATH)"
   ]
  },
  {
   "cell_type": "code",
   "execution_count": 6,
   "metadata": {},
   "outputs": [
    {
     "data": {
      "text/html": [
       "<div>\n",
       "<style scoped>\n",
       "    .dataframe tbody tr th:only-of-type {\n",
       "        vertical-align: middle;\n",
       "    }\n",
       "\n",
       "    .dataframe tbody tr th {\n",
       "        vertical-align: top;\n",
       "    }\n",
       "\n",
       "    .dataframe thead th {\n",
       "        text-align: right;\n",
       "    }\n",
       "</style>\n",
       "<table border=\"1\" class=\"dataframe\">\n",
       "  <thead>\n",
       "    <tr style=\"text-align: right;\">\n",
       "      <th></th>\n",
       "      <th>video_id</th>\n",
       "      <th>sequence</th>\n",
       "      <th>video_frame</th>\n",
       "      <th>sequence_frame</th>\n",
       "      <th>image_id</th>\n",
       "      <th>annotations</th>\n",
       "    </tr>\n",
       "  </thead>\n",
       "  <tbody>\n",
       "    <tr>\n",
       "      <th>0</th>\n",
       "      <td>0</td>\n",
       "      <td>40258</td>\n",
       "      <td>0</td>\n",
       "      <td>0</td>\n",
       "      <td>0-0</td>\n",
       "      <td>[]</td>\n",
       "    </tr>\n",
       "    <tr>\n",
       "      <th>1</th>\n",
       "      <td>0</td>\n",
       "      <td>40258</td>\n",
       "      <td>1</td>\n",
       "      <td>1</td>\n",
       "      <td>0-1</td>\n",
       "      <td>[]</td>\n",
       "    </tr>\n",
       "    <tr>\n",
       "      <th>2</th>\n",
       "      <td>0</td>\n",
       "      <td>40258</td>\n",
       "      <td>2</td>\n",
       "      <td>2</td>\n",
       "      <td>0-2</td>\n",
       "      <td>[]</td>\n",
       "    </tr>\n",
       "    <tr>\n",
       "      <th>3</th>\n",
       "      <td>0</td>\n",
       "      <td>40258</td>\n",
       "      <td>3</td>\n",
       "      <td>3</td>\n",
       "      <td>0-3</td>\n",
       "      <td>[]</td>\n",
       "    </tr>\n",
       "    <tr>\n",
       "      <th>4</th>\n",
       "      <td>0</td>\n",
       "      <td>40258</td>\n",
       "      <td>4</td>\n",
       "      <td>4</td>\n",
       "      <td>0-4</td>\n",
       "      <td>[]</td>\n",
       "    </tr>\n",
       "  </tbody>\n",
       "</table>\n",
       "</div>"
      ],
      "text/plain": [
       "   video_id  sequence  video_frame  sequence_frame image_id annotations\n",
       "0         0     40258            0               0      0-0          []\n",
       "1         0     40258            1               1      0-1          []\n",
       "2         0     40258            2               2      0-2          []\n",
       "3         0     40258            3               3      0-3          []\n",
       "4         0     40258            4               4      0-4          []"
      ]
     },
     "execution_count": 6,
     "metadata": {},
     "output_type": "execute_result"
    }
   ],
   "source": [
    "data.head()"
   ]
  },
  {
   "cell_type": "code",
   "execution_count": 7,
   "metadata": {},
   "outputs": [],
   "source": [
    "data['annotations'] = data['annotations'].apply(literal_eval)"
   ]
  },
  {
   "cell_type": "code",
   "execution_count": 8,
   "metadata": {},
   "outputs": [
    {
     "name": "stdout",
     "output_type": "stream",
     "text": [
      "<class 'pandas.core.frame.DataFrame'>\n",
      "RangeIndex: 23501 entries, 0 to 23500\n",
      "Data columns (total 6 columns):\n",
      " #   Column          Non-Null Count  Dtype \n",
      "---  ------          --------------  ----- \n",
      " 0   video_id        23501 non-null  int64 \n",
      " 1   sequence        23501 non-null  int64 \n",
      " 2   video_frame     23501 non-null  int64 \n",
      " 3   sequence_frame  23501 non-null  int64 \n",
      " 4   image_id        23501 non-null  object\n",
      " 5   annotations     23501 non-null  object\n",
      "dtypes: int64(4), object(2)\n",
      "memory usage: 1.1+ MB\n"
     ]
    }
   ],
   "source": [
    "data.info()"
   ]
  },
  {
   "cell_type": "code",
   "execution_count": 9,
   "metadata": {},
   "outputs": [],
   "source": [
    "categoryid = []\n",
    "categoryname = []\n",
    "\n",
    "for x in range(0,len(data['annotations'])):\n",
    "    if data['annotations'][x] == []:\n",
    "        y = 0\n",
    "        z = 'without_COTS'\n",
    "    else:\n",
    "        y = 1\n",
    "        z = 'with_COTS'\n",
    "    categoryid.append(y)\n",
    "    categoryname.append(z)"
   ]
  },
  {
   "cell_type": "code",
   "execution_count": 10,
   "metadata": {},
   "outputs": [],
   "source": [
    "data['categoryid'] = categoryid\n",
    "data['categoryname'] = categoryname"
   ]
  },
  {
   "cell_type": "code",
   "execution_count": 11,
   "metadata": {},
   "outputs": [],
   "source": [
    "base_folder = \"D:/Sumit/Python/Kaggle/tensorflow-great-barrier-reef/greatbarrierreef/train_images\"\n",
    "\n",
    "data[\"path\"] = base_folder + \"/video_\" + \\\n",
    "                    data['video_id'].astype(str) + \"/\" +\\\n",
    "                    data['video_frame'].astype(str) +\".jpg\""
   ]
  },
  {
   "cell_type": "code",
   "execution_count": 12,
   "metadata": {},
   "outputs": [],
   "source": [
    "# Calculate the number of total annotations within the frame\n",
    "data[\"no_of_annotations\"] = data[\"annotations\"].apply(lambda x: len(x))"
   ]
  },
  {
   "cell_type": "code",
   "execution_count": 13,
   "metadata": {},
   "outputs": [
    {
     "data": {
      "text/html": [
       "<div>\n",
       "<style scoped>\n",
       "    .dataframe tbody tr th:only-of-type {\n",
       "        vertical-align: middle;\n",
       "    }\n",
       "\n",
       "    .dataframe tbody tr th {\n",
       "        vertical-align: top;\n",
       "    }\n",
       "\n",
       "    .dataframe thead th {\n",
       "        text-align: right;\n",
       "    }\n",
       "</style>\n",
       "<table border=\"1\" class=\"dataframe\">\n",
       "  <thead>\n",
       "    <tr style=\"text-align: right;\">\n",
       "      <th></th>\n",
       "      <th>video_id</th>\n",
       "      <th>sequence</th>\n",
       "      <th>video_frame</th>\n",
       "      <th>sequence_frame</th>\n",
       "      <th>image_id</th>\n",
       "      <th>annotations</th>\n",
       "      <th>categoryid</th>\n",
       "      <th>categoryname</th>\n",
       "      <th>path</th>\n",
       "      <th>no_of_annotations</th>\n",
       "    </tr>\n",
       "  </thead>\n",
       "  <tbody>\n",
       "    <tr>\n",
       "      <th>0</th>\n",
       "      <td>0</td>\n",
       "      <td>40258</td>\n",
       "      <td>0</td>\n",
       "      <td>0</td>\n",
       "      <td>0-0</td>\n",
       "      <td>[]</td>\n",
       "      <td>0</td>\n",
       "      <td>without_COTS</td>\n",
       "      <td>D:/Sumit/Python/Kaggle/tensorflow-great-barrie...</td>\n",
       "      <td>0</td>\n",
       "    </tr>\n",
       "    <tr>\n",
       "      <th>1</th>\n",
       "      <td>0</td>\n",
       "      <td>40258</td>\n",
       "      <td>1</td>\n",
       "      <td>1</td>\n",
       "      <td>0-1</td>\n",
       "      <td>[]</td>\n",
       "      <td>0</td>\n",
       "      <td>without_COTS</td>\n",
       "      <td>D:/Sumit/Python/Kaggle/tensorflow-great-barrie...</td>\n",
       "      <td>0</td>\n",
       "    </tr>\n",
       "    <tr>\n",
       "      <th>2</th>\n",
       "      <td>0</td>\n",
       "      <td>40258</td>\n",
       "      <td>2</td>\n",
       "      <td>2</td>\n",
       "      <td>0-2</td>\n",
       "      <td>[]</td>\n",
       "      <td>0</td>\n",
       "      <td>without_COTS</td>\n",
       "      <td>D:/Sumit/Python/Kaggle/tensorflow-great-barrie...</td>\n",
       "      <td>0</td>\n",
       "    </tr>\n",
       "    <tr>\n",
       "      <th>3</th>\n",
       "      <td>0</td>\n",
       "      <td>40258</td>\n",
       "      <td>3</td>\n",
       "      <td>3</td>\n",
       "      <td>0-3</td>\n",
       "      <td>[]</td>\n",
       "      <td>0</td>\n",
       "      <td>without_COTS</td>\n",
       "      <td>D:/Sumit/Python/Kaggle/tensorflow-great-barrie...</td>\n",
       "      <td>0</td>\n",
       "    </tr>\n",
       "    <tr>\n",
       "      <th>4</th>\n",
       "      <td>0</td>\n",
       "      <td>40258</td>\n",
       "      <td>4</td>\n",
       "      <td>4</td>\n",
       "      <td>0-4</td>\n",
       "      <td>[]</td>\n",
       "      <td>0</td>\n",
       "      <td>without_COTS</td>\n",
       "      <td>D:/Sumit/Python/Kaggle/tensorflow-great-barrie...</td>\n",
       "      <td>0</td>\n",
       "    </tr>\n",
       "  </tbody>\n",
       "</table>\n",
       "</div>"
      ],
      "text/plain": [
       "   video_id  sequence  video_frame  sequence_frame image_id annotations  \\\n",
       "0         0     40258            0               0      0-0          []   \n",
       "1         0     40258            1               1      0-1          []   \n",
       "2         0     40258            2               2      0-2          []   \n",
       "3         0     40258            3               3      0-3          []   \n",
       "4         0     40258            4               4      0-4          []   \n",
       "\n",
       "   categoryid  categoryname  \\\n",
       "0           0  without_COTS   \n",
       "1           0  without_COTS   \n",
       "2           0  without_COTS   \n",
       "3           0  without_COTS   \n",
       "4           0  without_COTS   \n",
       "\n",
       "                                                path  no_of_annotations  \n",
       "0  D:/Sumit/Python/Kaggle/tensorflow-great-barrie...                  0  \n",
       "1  D:/Sumit/Python/Kaggle/tensorflow-great-barrie...                  0  \n",
       "2  D:/Sumit/Python/Kaggle/tensorflow-great-barrie...                  0  \n",
       "3  D:/Sumit/Python/Kaggle/tensorflow-great-barrie...                  0  \n",
       "4  D:/Sumit/Python/Kaggle/tensorflow-great-barrie...                  0  "
      ]
     },
     "execution_count": 13,
     "metadata": {},
     "output_type": "execute_result"
    }
   ],
   "source": [
    "data.head()"
   ]
  },
  {
   "cell_type": "code",
   "execution_count": 14,
   "metadata": {},
   "outputs": [
    {
     "data": {
      "text/html": [
       "<div>\n",
       "<style scoped>\n",
       "    .dataframe tbody tr th:only-of-type {\n",
       "        vertical-align: middle;\n",
       "    }\n",
       "\n",
       "    .dataframe tbody tr th {\n",
       "        vertical-align: top;\n",
       "    }\n",
       "\n",
       "    .dataframe thead th {\n",
       "        text-align: right;\n",
       "    }\n",
       "</style>\n",
       "<table border=\"1\" class=\"dataframe\">\n",
       "  <thead>\n",
       "    <tr style=\"text-align: right;\">\n",
       "      <th></th>\n",
       "      <th>video_id</th>\n",
       "      <th>sequence</th>\n",
       "      <th>video_frame</th>\n",
       "      <th>sequence_frame</th>\n",
       "      <th>image_id</th>\n",
       "      <th>annotations</th>\n",
       "      <th>categoryid</th>\n",
       "      <th>categoryname</th>\n",
       "      <th>path</th>\n",
       "      <th>no_of_annotations</th>\n",
       "    </tr>\n",
       "  </thead>\n",
       "  <tbody>\n",
       "    <tr>\n",
       "      <th>9292</th>\n",
       "      <td>1</td>\n",
       "      <td>8503</td>\n",
       "      <td>4140</td>\n",
       "      <td>312</td>\n",
       "      <td>1-4140</td>\n",
       "      <td>[{'x': 1073, 'y': 274, 'width': 62, 'height': ...</td>\n",
       "      <td>1</td>\n",
       "      <td>with_COTS</td>\n",
       "      <td>D:/Sumit/Python/Kaggle/tensorflow-great-barrie...</td>\n",
       "      <td>11</td>\n",
       "    </tr>\n",
       "    <tr>\n",
       "      <th>9293</th>\n",
       "      <td>1</td>\n",
       "      <td>8503</td>\n",
       "      <td>4141</td>\n",
       "      <td>313</td>\n",
       "      <td>1-4141</td>\n",
       "      <td>[{'x': 1076, 'y': 270, 'width': 67, 'height': ...</td>\n",
       "      <td>1</td>\n",
       "      <td>with_COTS</td>\n",
       "      <td>D:/Sumit/Python/Kaggle/tensorflow-great-barrie...</td>\n",
       "      <td>11</td>\n",
       "    </tr>\n",
       "    <tr>\n",
       "      <th>9294</th>\n",
       "      <td>1</td>\n",
       "      <td>8503</td>\n",
       "      <td>4142</td>\n",
       "      <td>314</td>\n",
       "      <td>1-4142</td>\n",
       "      <td>[{'x': 1072, 'y': 268, 'width': 72, 'height': ...</td>\n",
       "      <td>1</td>\n",
       "      <td>with_COTS</td>\n",
       "      <td>D:/Sumit/Python/Kaggle/tensorflow-great-barrie...</td>\n",
       "      <td>11</td>\n",
       "    </tr>\n",
       "    <tr>\n",
       "      <th>9295</th>\n",
       "      <td>1</td>\n",
       "      <td>8503</td>\n",
       "      <td>4143</td>\n",
       "      <td>315</td>\n",
       "      <td>1-4143</td>\n",
       "      <td>[{'x': 1074, 'y': 264, 'width': 73, 'height': ...</td>\n",
       "      <td>1</td>\n",
       "      <td>with_COTS</td>\n",
       "      <td>D:/Sumit/Python/Kaggle/tensorflow-great-barrie...</td>\n",
       "      <td>11</td>\n",
       "    </tr>\n",
       "    <tr>\n",
       "      <th>9296</th>\n",
       "      <td>1</td>\n",
       "      <td>8503</td>\n",
       "      <td>4144</td>\n",
       "      <td>316</td>\n",
       "      <td>1-4144</td>\n",
       "      <td>[{'x': 1080, 'y': 260, 'width': 70, 'height': ...</td>\n",
       "      <td>1</td>\n",
       "      <td>with_COTS</td>\n",
       "      <td>D:/Sumit/Python/Kaggle/tensorflow-great-barrie...</td>\n",
       "      <td>11</td>\n",
       "    </tr>\n",
       "  </tbody>\n",
       "</table>\n",
       "</div>"
      ],
      "text/plain": [
       "      video_id  sequence  video_frame  sequence_frame image_id  \\\n",
       "9292         1      8503         4140             312   1-4140   \n",
       "9293         1      8503         4141             313   1-4141   \n",
       "9294         1      8503         4142             314   1-4142   \n",
       "9295         1      8503         4143             315   1-4143   \n",
       "9296         1      8503         4144             316   1-4144   \n",
       "\n",
       "                                            annotations  categoryid  \\\n",
       "9292  [{'x': 1073, 'y': 274, 'width': 62, 'height': ...           1   \n",
       "9293  [{'x': 1076, 'y': 270, 'width': 67, 'height': ...           1   \n",
       "9294  [{'x': 1072, 'y': 268, 'width': 72, 'height': ...           1   \n",
       "9295  [{'x': 1074, 'y': 264, 'width': 73, 'height': ...           1   \n",
       "9296  [{'x': 1080, 'y': 260, 'width': 70, 'height': ...           1   \n",
       "\n",
       "     categoryname                                               path  \\\n",
       "9292    with_COTS  D:/Sumit/Python/Kaggle/tensorflow-great-barrie...   \n",
       "9293    with_COTS  D:/Sumit/Python/Kaggle/tensorflow-great-barrie...   \n",
       "9294    with_COTS  D:/Sumit/Python/Kaggle/tensorflow-great-barrie...   \n",
       "9295    with_COTS  D:/Sumit/Python/Kaggle/tensorflow-great-barrie...   \n",
       "9296    with_COTS  D:/Sumit/Python/Kaggle/tensorflow-great-barrie...   \n",
       "\n",
       "      no_of_annotations  \n",
       "9292                 11  \n",
       "9293                 11  \n",
       "9294                 11  \n",
       "9295                 11  \n",
       "9296                 11  "
      ]
     },
     "execution_count": 14,
     "metadata": {},
     "output_type": "execute_result"
    }
   ],
   "source": [
    "data[data['no_of_annotations']>10].head()"
   ]
  },
  {
   "cell_type": "code",
   "execution_count": 16,
   "metadata": {},
   "outputs": [],
   "source": [
    "def image(row):\n",
    "    image = {}\n",
    "    image[\"height\"] = 720\n",
    "    image[\"width\"] = 1280\n",
    "    image[\"id\"] = row.image_id\n",
    "    image[\"file_path\"] = row.path\n",
    "    return image\n",
    "\n",
    "def category(row):\n",
    "    category = {}\n",
    "    category[\"supercategory\"] = 'None'\n",
    "    category[\"id\"] = row.categoryid\n",
    "    category[\"name\"] = row.categoryname\n",
    "    return category\n",
    "\n",
    "def annotation(row):\n",
    "    sub_list = []\n",
    "    annotation_id = 0\n",
    "    for bbox in row.annotations:\n",
    "        annotation = {}\n",
    "        annotation[\"segmentation\"] = []\n",
    "        annotation[\"iscrowd\"] = 0\n",
    "        annotation[\"area\"] = bbox['width']* bbox['height']\n",
    "        annotation[\"image_id\"] = row.image_id\n",
    "\n",
    "        annotation[\"bbox\"] = list(bbox.values())\n",
    "\n",
    "        annotation[\"category_id\"] = row.categoryid\n",
    "        annotation[\"id\"] = annotation_id\n",
    "        sub_list.append(annotation)\n",
    "        annotation_id += 1\n",
    "    return sub_list"
   ]
  },
  {
   "cell_type": "code",
   "execution_count": 17,
   "metadata": {},
   "outputs": [],
   "source": [
    "def coco(df):    \n",
    "    images = []\n",
    "    categories = []\n",
    "    annotations = []\n",
    "    for row in tqdm(df.itertuples()):\n",
    "        annotations.append(annotation(row))\n",
    "        images.append(image(row))\n",
    "        categories.append(category(row))\n",
    "\n",
    "    json_file = {'categories':categories, 'images':images, 'annotations':annotations}\n",
    "\n",
    "    return json_file"
   ]
  },
  {
   "cell_type": "code",
   "execution_count": 18,
   "metadata": {},
   "outputs": [
    {
     "name": "stderr",
     "output_type": "stream",
     "text": [
      "23501it [00:00, 167711.93it/s]\n"
     ]
    }
   ],
   "source": [
    "coco_data = coco(data)"
   ]
  },
  {
   "cell_type": "markdown",
   "metadata": {},
   "source": [
    "Saving into a json file"
   ]
  },
  {
   "cell_type": "code",
   "execution_count": 19,
   "metadata": {},
   "outputs": [],
   "source": [
    "save_json_path = 'coco_data_fastai.json'\n",
    "\n",
    "json.dump(coco_data, open(save_json_path, \"w\"), indent=4)"
   ]
  },
  {
   "cell_type": "markdown",
   "metadata": {},
   "source": [
    "OBJECT DETECTION USING FASTAI"
   ]
  },
  {
   "cell_type": "code",
   "execution_count": 20,
   "metadata": {},
   "outputs": [],
   "source": [
    "from fastai.vision.all import *"
   ]
  },
  {
   "cell_type": "code",
   "execution_count": 21,
   "metadata": {},
   "outputs": [],
   "source": [
    "f = open(save_json_path)\n",
    "json_file = json.load(f)"
   ]
  },
  {
   "cell_type": "code",
   "execution_count": 23,
   "metadata": {},
   "outputs": [
    {
     "ename": "TypeError",
     "evalue": "list indices must be integers or slices, not str",
     "output_type": "error",
     "traceback": [
      "\u001b[1;31m---------------------------------------------------------------------------\u001b[0m",
      "\u001b[1;31mTypeError\u001b[0m                                 Traceback (most recent call last)",
      "\u001b[1;32m~\\AppData\\Local\\Temp/ipykernel_7144/3068847224.py\u001b[0m in \u001b[0;36m<module>\u001b[1;34m\u001b[0m\n\u001b[1;32m----> 1\u001b[1;33m \u001b[0mimgs\u001b[0m\u001b[1;33m,\u001b[0m \u001b[0mlbl_bbox\u001b[0m \u001b[1;33m=\u001b[0m \u001b[0mget_annotations\u001b[0m\u001b[1;33m(\u001b[0m\u001b[1;34m'coco_data_fastai.json'\u001b[0m\u001b[1;33m)\u001b[0m\u001b[1;33m\u001b[0m\u001b[1;33m\u001b[0m\u001b[0m\n\u001b[0m",
      "\u001b[1;32m~\\anaconda3\\lib\\site-packages\\fastai\\vision\\core.py\u001b[0m in \u001b[0;36mget_annotations\u001b[1;34m(fname, prefix)\u001b[0m\n\u001b[0;32m    169\u001b[0m     \u001b[0mclasses\u001b[0m \u001b[1;33m=\u001b[0m \u001b[1;33m{\u001b[0m\u001b[0mo\u001b[0m\u001b[1;33m[\u001b[0m\u001b[1;34m'id'\u001b[0m\u001b[1;33m]\u001b[0m\u001b[1;33m:\u001b[0m\u001b[0mo\u001b[0m\u001b[1;33m[\u001b[0m\u001b[1;34m'name'\u001b[0m\u001b[1;33m]\u001b[0m \u001b[1;32mfor\u001b[0m \u001b[0mo\u001b[0m \u001b[1;32min\u001b[0m \u001b[0mannot_dict\u001b[0m\u001b[1;33m[\u001b[0m\u001b[1;34m'categories'\u001b[0m\u001b[1;33m]\u001b[0m\u001b[1;33m}\u001b[0m\u001b[1;33m\u001b[0m\u001b[1;33m\u001b[0m\u001b[0m\n\u001b[0;32m    170\u001b[0m     \u001b[1;32mfor\u001b[0m \u001b[0mo\u001b[0m \u001b[1;32min\u001b[0m \u001b[0mannot_dict\u001b[0m\u001b[1;33m[\u001b[0m\u001b[1;34m'annotations'\u001b[0m\u001b[1;33m]\u001b[0m\u001b[1;33m:\u001b[0m\u001b[1;33m\u001b[0m\u001b[1;33m\u001b[0m\u001b[0m\n\u001b[1;32m--> 171\u001b[1;33m         \u001b[0mbb\u001b[0m \u001b[1;33m=\u001b[0m \u001b[0mo\u001b[0m\u001b[1;33m[\u001b[0m\u001b[1;34m'bbox'\u001b[0m\u001b[1;33m]\u001b[0m\u001b[1;33m\u001b[0m\u001b[1;33m\u001b[0m\u001b[0m\n\u001b[0m\u001b[0;32m    172\u001b[0m         \u001b[0mid2bboxes\u001b[0m\u001b[1;33m[\u001b[0m\u001b[0mo\u001b[0m\u001b[1;33m[\u001b[0m\u001b[1;34m'image_id'\u001b[0m\u001b[1;33m]\u001b[0m\u001b[1;33m]\u001b[0m\u001b[1;33m.\u001b[0m\u001b[0mappend\u001b[0m\u001b[1;33m(\u001b[0m\u001b[1;33m[\u001b[0m\u001b[0mbb\u001b[0m\u001b[1;33m[\u001b[0m\u001b[1;36m0\u001b[0m\u001b[1;33m]\u001b[0m\u001b[1;33m,\u001b[0m\u001b[0mbb\u001b[0m\u001b[1;33m[\u001b[0m\u001b[1;36m1\u001b[0m\u001b[1;33m]\u001b[0m\u001b[1;33m,\u001b[0m \u001b[0mbb\u001b[0m\u001b[1;33m[\u001b[0m\u001b[1;36m0\u001b[0m\u001b[1;33m]\u001b[0m\u001b[1;33m+\u001b[0m\u001b[0mbb\u001b[0m\u001b[1;33m[\u001b[0m\u001b[1;36m2\u001b[0m\u001b[1;33m]\u001b[0m\u001b[1;33m,\u001b[0m \u001b[0mbb\u001b[0m\u001b[1;33m[\u001b[0m\u001b[1;36m1\u001b[0m\u001b[1;33m]\u001b[0m\u001b[1;33m+\u001b[0m\u001b[0mbb\u001b[0m\u001b[1;33m[\u001b[0m\u001b[1;36m3\u001b[0m\u001b[1;33m]\u001b[0m\u001b[1;33m]\u001b[0m\u001b[1;33m)\u001b[0m\u001b[1;33m\u001b[0m\u001b[1;33m\u001b[0m\u001b[0m\n\u001b[0;32m    173\u001b[0m         \u001b[0mid2cats\u001b[0m\u001b[1;33m[\u001b[0m\u001b[0mo\u001b[0m\u001b[1;33m[\u001b[0m\u001b[1;34m'image_id'\u001b[0m\u001b[1;33m]\u001b[0m\u001b[1;33m]\u001b[0m\u001b[1;33m.\u001b[0m\u001b[0mappend\u001b[0m\u001b[1;33m(\u001b[0m\u001b[0mclasses\u001b[0m\u001b[1;33m[\u001b[0m\u001b[0mo\u001b[0m\u001b[1;33m[\u001b[0m\u001b[1;34m'category_id'\u001b[0m\u001b[1;33m]\u001b[0m\u001b[1;33m]\u001b[0m\u001b[1;33m)\u001b[0m\u001b[1;33m\u001b[0m\u001b[1;33m\u001b[0m\u001b[0m\n",
      "\u001b[1;31mTypeError\u001b[0m: list indices must be integers or slices, not str"
     ]
    }
   ],
   "source": [
    "imgs, lbl_bbox = get_annotations('coco_data_fastai.json')"
   ]
  },
  {
   "cell_type": "code",
   "execution_count": 24,
   "metadata": {},
   "outputs": [
    {
     "data": {
      "text/plain": [
       "dict_keys(['categories', 'images', 'annotations'])"
      ]
     },
     "execution_count": 24,
     "metadata": {},
     "output_type": "execute_result"
    }
   ],
   "source": [
    "json_file.keys()"
   ]
  },
  {
   "cell_type": "code",
   "execution_count": 25,
   "metadata": {},
   "outputs": [],
   "source": [
    "IMAGES, ANNOTATIONS, CATEGORIES = ['images', 'annotations','categories']"
   ]
  },
  {
   "cell_type": "code",
   "execution_count": 26,
   "metadata": {},
   "outputs": [
    {
     "data": {
      "text/plain": [
       "{'supercategory': 'None', 'id': 1, 'name': 'with_COTS'}"
      ]
     },
     "execution_count": 26,
     "metadata": {},
     "output_type": "execute_result"
    }
   ],
   "source": [
    "y = json_file[CATEGORIES][16]\n",
    "\n",
    "y"
   ]
  },
  {
   "cell_type": "code",
   "execution_count": 29,
   "metadata": {},
   "outputs": [
    {
     "data": {
      "text/plain": [
       "[{'segmentation': [],\n",
       "  'iscrowd': 0,\n",
       "  'area': 4836,\n",
       "  'image_id': '0-35',\n",
       "  'bbox': [520, 151, 78, 62],\n",
       "  'category_id': 1,\n",
       "  'id': 0},\n",
       " {'segmentation': [],\n",
       "  'iscrowd': 0,\n",
       "  'area': 1856,\n",
       "  'image_id': '0-35',\n",
       "  'bbox': [598, 204, 58, 32],\n",
       "  'category_id': 1,\n",
       "  'id': 1}]"
      ]
     },
     "execution_count": 29,
     "metadata": {},
     "output_type": "execute_result"
    }
   ],
   "source": [
    "z = json_file[ANNOTATIONS][35]\n",
    "z"
   ]
  }
 ],
 "metadata": {
  "interpreter": {
   "hash": "235b05f9d80966d920d9d73088900085869fcec6603914b1006befa1886f6f29"
  },
  "kernelspec": {
   "display_name": "Python 3.9.7 64-bit ('base': conda)",
   "language": "python",
   "name": "python3"
  },
  "language_info": {
   "codemirror_mode": {
    "name": "ipython",
    "version": 3
   },
   "file_extension": ".py",
   "mimetype": "text/x-python",
   "name": "python",
   "nbconvert_exporter": "python",
   "pygments_lexer": "ipython3",
   "version": "3.9.7"
  },
  "orig_nbformat": 4
 },
 "nbformat": 4,
 "nbformat_minor": 2
}
